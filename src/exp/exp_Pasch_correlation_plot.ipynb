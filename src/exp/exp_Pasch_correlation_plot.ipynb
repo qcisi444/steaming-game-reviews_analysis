{
 "cells": [
  {
   "cell_type": "code",
   "execution_count": 1,
   "metadata": {},
   "outputs": [],
   "source": [
    "import pandas as pd\n",
    "import seaborn as sns\n",
    "import matplotlib.pyplot as plt\n",
    "import json\n",
    "import jsonlines\n",
    "import pandas as pd\n",
    "import numpy as np\n",
    "#import seaborn as sns\n",
    "from matplotlib import pyplot as plt\n",
    "import spacy\n",
    "import string\n",
    "from many_stop_words import get_stop_words\n",
    "nlp = spacy.load('en_core_web_lg')"
   ]
  },
  {
   "cell_type": "code",
   "execution_count": 2,
   "metadata": {},
   "outputs": [
    {
     "name": "stderr",
     "output_type": "stream",
     "text": [
      "<>:5: SyntaxWarning: invalid escape sequence '\\('\n",
      "<>:5: SyntaxWarning: invalid escape sequence '\\('\n",
      "C:\\Users\\Michael Pasch\\AppData\\Local\\Temp\\ipykernel_24984\\495593237.py:5: SyntaxWarning: invalid escape sequence '\\('\n",
      "  special_characters = list(\"\"\"!\"#$%&\\()*+,-./:;<=>?@[\\\\]^_{|}~\"\"\")\n"
     ]
    }
   ],
   "source": [
    "# punctuation includes the symbols '!\"#$%&\\'()*+,-./:;<=>?@[\\\\]^_`{|}~'\n",
    "punctuation = string.punctuation\n",
    "# stopwords are words of lesser interesst like 'and, for, no, because, nobody,...'\n",
    "stopwords = get_stop_words('en')#list(STOP_WORDS)\n",
    "special_characters = list(\"\"\"!\"#$%&\\()*+,-./:;<=>?@[\\\\]^_{|}~\"\"\")\n",
    "\n",
    "def filter_string(string):\n",
    "    # filter out punctuation, digits and stopwords\n",
    "    filtered_string = ''.join(filter(lambda char: char not in special_characters ,string))\n",
    "    words = filtered_string.split()\n",
    "    filtered_words = [word for word in words if word not in stopwords]\n",
    "    filtered_string = ' '.join(filtered_words)\n",
    "    #filtered_string = ''.join([char for char in filtered_string if char not in punctuation and not char.isdigit()])\n",
    "    return filtered_string"
   ]
  },
  {
   "cell_type": "code",
   "execution_count": 3,
   "metadata": {},
   "outputs": [],
   "source": [
    "def preprocess_df(df):\n",
    "    # review to lowercase, filter review, sort by rating and re-index\n",
    "    df['review'] = df['review'].apply(lambda x: filter_string(str(x).lower()))\n",
    "    # remove empty columns\n",
    "    df2 = df[df['review'] != '']\n",
    "    df2 = df2.sort_values(by='rating')\n",
    "    df2.index = np.arange(0, len(df2))\n",
    "    return df2"
   ]
  },
  {
   "cell_type": "code",
   "execution_count": 6,
   "metadata": {},
   "outputs": [],
   "source": [
    "list_of_vars = [\"total_game_hours_last_two_weeks\", \"num_groups\", \"num_badges\", \"num_found_funny\", \"review\", \"num_workshop_items\", \"found_helpful_percentage\", \"num_voted_helpfulness\", \"num_achievements_percentage\", \"num_achievements_attained\", \"num_achievements_possible\", \"num_found_helpful\", \"friend_player_level\", \"num_found_unhelpful\", \"total_game_hours\", \"num_guides\", \"rating\", \"num_friends\", \"num_screenshots\", \"num_comments\", \"num_reviews\", \"num_games_owned\"]\n",
    "list_of_interesting_vars = [\"found_helpful_percentage\", \"review\", \"num_achievements_percentage\",  \"num_achievements_possible\", \"total_game_hours\", \"rating\"]\n",
    "list_of_games = ['Arma_3', 'Counter_Strike', 'Counter_Strike_Global_Offensive', 'Dota_2', 'Football_Manager_2015', 'Garrys_Mod', 'Grand_Theft_auto_V', 'Sid_Meiers_Civilization_5', 'Team_Fortress_2', 'The_Elder_Scrolls_V', 'Warframe']\n",
    "data_of_games = dict()\n",
    "\n",
    "for game in list_of_games:\n",
    "    data_of_games[game] = pd.read_json('../../dat/' + game + '.jsonlines', lines=True)"
   ]
  },
  {
   "cell_type": "code",
   "execution_count": 20,
   "metadata": {},
   "outputs": [],
   "source": [
    "def visualize_review_corrcoef(df, title='corrCoefPlot'):\n",
    "    # embedd the reviews, build corrcoef matrix and visualize it\n",
    "    df_copy = df.copy(deep=True) # copy or original dataset will be embedded\n",
    "    df_copy['review'] = df_copy['review'].apply(lambda x: nlp(x).vector)\n",
    "    np_data = df_copy['review'].to_numpy()\n",
    "    edge_negative_reviews = len(df_copy[df_copy['rating'] == 'Not Recommended'])\n",
    "    stacked_data = np_data[0]\n",
    "    for row in range(np_data.shape[0]):\n",
    "        stacked_data = np.vstack((stacked_data,np_data[row]))\n",
    "    corrcoef_matrix = np.corrcoef(stacked_data)\n",
    "    corrcoef_matrix = np.nan_to_num(corrcoef_matrix)\n",
    "    # insert white line to separate negative and positive reviews\n",
    "    for i in range(20):\n",
    "        corrcoef_matrix = np.insert(corrcoef_matrix, edge_negative_reviews+i, 1, axis=0)\n",
    "        corrcoef_matrix = np.insert(corrcoef_matrix, edge_negative_reviews, 1, axis=1)\n",
    "    # set plotsize so that each pixel is one entry in matrix\n",
    "    plt.figure(figsize=(corrcoef_matrix.shape[0]/100,corrcoef_matrix.shape[1]/100))\n",
    "    ax = plt.imshow(corrcoef_matrix, cmap=plt.cm.ocean)\n",
    "    plt.colorbar()\n",
    "    plt.savefig(f\"{title.replace(\":\", \"_\")}_matrix.pdf\")\n",
    "    plt.rc('xtick', labelsize=80)\n",
    "    plt.rc('ytick', labelsize=80)\n",
    "    plt.title(title, fontisze=80)\n",
    "    plt.show"
   ]
  },
  {
   "cell_type": "code",
   "execution_count": 19,
   "metadata": {},
   "outputs": [
    {
     "ename": "KeyboardInterrupt",
     "evalue": "",
     "output_type": "error",
     "traceback": [
      "\u001b[1;31m---------------------------------------------------------------------------\u001b[0m",
      "\u001b[1;31mKeyboardInterrupt\u001b[0m                         Traceback (most recent call last)",
      "Cell \u001b[1;32mIn[19], line 3\u001b[0m\n\u001b[0;32m      1\u001b[0m data \u001b[38;5;241m=\u001b[39m data_of_games[\u001b[38;5;124m\"\u001b[39m\u001b[38;5;124mThe_Elder_Scrolls_V\u001b[39m\u001b[38;5;124m\"\u001b[39m]\n\u001b[0;32m      2\u001b[0m data \u001b[38;5;241m=\u001b[39m preprocess_df(data)\n\u001b[1;32m----> 3\u001b[0m \u001b[43mvisualize_review_corrcoef\u001b[49m\u001b[43m(\u001b[49m\u001b[43mdata\u001b[49m\u001b[43m,\u001b[49m\u001b[43m \u001b[49m\u001b[43mtitle\u001b[49m\u001b[38;5;241;43m=\u001b[39;49m\u001b[38;5;124;43m\"\u001b[39;49m\u001b[38;5;124;43mThe_Elder_Scrolls_V\u001b[39;49m\u001b[38;5;124;43m\"\u001b[39;49m\u001b[43m)\u001b[49m\n",
      "Cell \u001b[1;32mIn[18], line 9\u001b[0m, in \u001b[0;36mvisualize_review_corrcoef\u001b[1;34m(df, title)\u001b[0m\n\u001b[0;32m      7\u001b[0m stacked_data \u001b[38;5;241m=\u001b[39m np_data[\u001b[38;5;241m0\u001b[39m]\n\u001b[0;32m      8\u001b[0m \u001b[38;5;28;01mfor\u001b[39;00m row \u001b[38;5;129;01min\u001b[39;00m \u001b[38;5;28mrange\u001b[39m(np_data\u001b[38;5;241m.\u001b[39mshape[\u001b[38;5;241m0\u001b[39m]):\n\u001b[1;32m----> 9\u001b[0m     stacked_data \u001b[38;5;241m=\u001b[39m \u001b[43mnp\u001b[49m\u001b[38;5;241;43m.\u001b[39;49m\u001b[43mvstack\u001b[49m\u001b[43m(\u001b[49m\u001b[43m(\u001b[49m\u001b[43mstacked_data\u001b[49m\u001b[43m,\u001b[49m\u001b[43mnp_data\u001b[49m\u001b[43m[\u001b[49m\u001b[43mrow\u001b[49m\u001b[43m]\u001b[49m\u001b[43m)\u001b[49m\u001b[43m)\u001b[49m\n\u001b[0;32m     10\u001b[0m corrcoef_matrix \u001b[38;5;241m=\u001b[39m np\u001b[38;5;241m.\u001b[39mcorrcoef(stacked_data)\n\u001b[0;32m     11\u001b[0m corrcoef_matrix \u001b[38;5;241m=\u001b[39m np\u001b[38;5;241m.\u001b[39mnan_to_num(corrcoef_matrix)\n",
      "File \u001b[1;32mc:\\D\\Studium\\Miniconda\\envs\\data_literacy\\Lib\\site-packages\\numpy\\core\\shape_base.py:289\u001b[0m, in \u001b[0;36mvstack\u001b[1;34m(tup, dtype, casting)\u001b[0m\n\u001b[0;32m    287\u001b[0m \u001b[38;5;28;01mif\u001b[39;00m \u001b[38;5;129;01mnot\u001b[39;00m \u001b[38;5;28misinstance\u001b[39m(arrs, \u001b[38;5;28mlist\u001b[39m):\n\u001b[0;32m    288\u001b[0m     arrs \u001b[38;5;241m=\u001b[39m [arrs]\n\u001b[1;32m--> 289\u001b[0m \u001b[38;5;28;01mreturn\u001b[39;00m \u001b[43m_nx\u001b[49m\u001b[38;5;241;43m.\u001b[39;49m\u001b[43mconcatenate\u001b[49m\u001b[43m(\u001b[49m\u001b[43marrs\u001b[49m\u001b[43m,\u001b[49m\u001b[43m \u001b[49m\u001b[38;5;241;43m0\u001b[39;49m\u001b[43m,\u001b[49m\u001b[43m \u001b[49m\u001b[43mdtype\u001b[49m\u001b[38;5;241;43m=\u001b[39;49m\u001b[43mdtype\u001b[49m\u001b[43m,\u001b[49m\u001b[43m \u001b[49m\u001b[43mcasting\u001b[49m\u001b[38;5;241;43m=\u001b[39;49m\u001b[43mcasting\u001b[49m\u001b[43m)\u001b[49m\n",
      "\u001b[1;31mKeyboardInterrupt\u001b[0m: "
     ]
    }
   ],
   "source": [
    "# ausführen auf eigene gefahr, da sehr lange laufzeit!\n",
    "for game in list_of_games:\n",
    "    title = game\n",
    "    df_sample = data_of_games[game]#.sample(frac=0.25, replace=False, random_state=1)\n",
    "    df_sample = preprocess_df(df_sample)\n",
    "    visualize_review_corrcoef(df_sample, title)"
   ]
  }
 ],
 "metadata": {
  "kernelspec": {
   "display_name": "Python 3",
   "language": "python",
   "name": "python3"
  },
  "language_info": {
   "codemirror_mode": {
    "name": "ipython",
    "version": 3
   },
   "file_extension": ".py",
   "mimetype": "text/x-python",
   "name": "python",
   "nbconvert_exporter": "python",
   "pygments_lexer": "ipython3",
   "version": "3.12.0"
  }
 },
 "nbformat": 4,
 "nbformat_minor": 2
}
